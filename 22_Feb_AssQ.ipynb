{
 "cells": [
  {
   "cell_type": "markdown",
   "id": "8002ba63-55ca-45e4-b96c-7a78decc2846",
   "metadata": {},
   "source": [
    "Q1. Create a Pandas Series that contains the following data: 4, 8, 15, 16, 23, and 42. Then, print the series.\n",
    "\n",
    "Ans -"
   ]
  },
  {
   "cell_type": "code",
   "execution_count": 2,
   "id": "f5462708-1551-437c-81a5-514866e59eaf",
   "metadata": {},
   "outputs": [
    {
     "name": "stdout",
     "output_type": "stream",
     "text": [
      "0     4\n",
      "1     8\n",
      "2    15\n",
      "3    16\n",
      "4    23\n",
      "5    42\n",
      "dtype: int64\n"
     ]
    }
   ],
   "source": [
    "import pandas as pd\n",
    "a = pd.Series([4, 8, 15, 16, 23, 42])\n",
    "\n",
    "print(a)"
   ]
  },
  {
   "cell_type": "markdown",
   "id": "3850200d-9cb1-4c64-bf64-2f338656e346",
   "metadata": {},
   "source": [
    "-------------"
   ]
  },
  {
   "cell_type": "markdown",
   "id": "5854600d-5616-48fd-8050-433216f6c95f",
   "metadata": {},
   "source": [
    "Q2. Create a variable of list type containing 10 elements in it, and apply pandas.Series function on the\n",
    "variable print it.\n",
    "\n",
    "Ans -"
   ]
  },
  {
   "cell_type": "code",
   "execution_count": 3,
   "id": "9b792b02-08c2-413d-871c-aee6deaee618",
   "metadata": {},
   "outputs": [
    {
     "name": "stdout",
     "output_type": "stream",
     "text": [
      "0     Wade\n",
      "1     Sdra\n",
      "2     Daon\n",
      "3     Cala\n",
      "4     Zrih\n",
      "5     Mdox\n",
      "6     Dala\n",
      "7    Jalyn\n",
      "8     Maet\n",
      "9     Jart\n",
      "dtype: object\n"
     ]
    }
   ],
   "source": [
    "x = ['Wade', 'Sdra', 'Daon', 'Cala', 'Zrih', 'Mdox', 'Dala', 'Jalyn', 'Maet', 'Jart']\n",
    "print(pd.Series(x))"
   ]
  },
  {
   "cell_type": "markdown",
   "id": "6c1c34e3-b41c-4ed0-aecf-25f2003b1840",
   "metadata": {},
   "source": [
    "-------------------"
   ]
  },
  {
   "cell_type": "markdown",
   "id": "abf7fb05-527b-42a5-9cfe-5331d6956074",
   "metadata": {},
   "source": [
    "Q3. Create a Pandas DataFrame.Then, print it.\n",
    "\n",
    "Ans -"
   ]
  },
  {
   "cell_type": "code",
   "execution_count": 4,
   "id": "ec0903ec-2b4e-4cfe-8726-6eeec887c880",
   "metadata": {},
   "outputs": [
    {
     "name": "stdout",
     "output_type": "stream",
     "text": [
      "     Name  Age  Gender\n",
      "0   Alice   25  Female\n",
      "1     Bob   30    Male\n",
      "2  Claire   27  Female\n"
     ]
    }
   ],
   "source": [
    "Data = {'Name': ['Alice', 'Bob', 'Claire'], 'Age': [25, 30, 27], 'Gender': ['Female', 'Male', 'Female']}\n",
    "df = pd.DataFrame(Data)\n",
    "print(df)"
   ]
  },
  {
   "cell_type": "markdown",
   "id": "e77f28a3-d0cc-45bd-b2b9-a447fad0951f",
   "metadata": {},
   "source": [
    "-----------------------------"
   ]
  },
  {
   "cell_type": "markdown",
   "id": "e7d39de1-b276-4f1b-ab41-5d51248b4e1d",
   "metadata": {},
   "source": [
    "Q4. What is ‘DataFrame’ in pandas and how is it different from pandas.series? Explain with an example.\n",
    "\n",
    "Ans -\n",
    "\n",
    "**DataFrame :-**\n",
    "\n",
    "- In Pandas, a DataFrame is a 2-dimensional labeled data structure with columns that can hold data of various types. \n",
    "- It's similar to an SQL table. \n",
    "- Essentially, it's a collection of Pandas Series that share the same index.\n",
    "\n",
    "**Difference between DataFrame & Series :-**\n",
    "\n",
    "**DataFrame :**\n",
    "\n",
    "- 2D table with rows and columns.\n",
    "- Contains multiple columns.\n",
    "- Has both row and column indices.\n",
    "\n",
    "**Series :**\n",
    "\n",
    "- 1D array of data.\n",
    "- Represents a single column or row from a DataFrame.\n",
    "- Has an index for each element.\n",
    "\n",
    "**Example :**"
   ]
  },
  {
   "cell_type": "code",
   "execution_count": 5,
   "id": "10ac0ff8-88a2-493b-930d-72f5ff0cd227",
   "metadata": {},
   "outputs": [
    {
     "name": "stdout",
     "output_type": "stream",
     "text": [
      "     Name  Age  Gender\n",
      "0   Alice   25  Female\n",
      "1     Bob   30    Male\n",
      "2  Claire   27  Female\n"
     ]
    }
   ],
   "source": [
    "Data = {'Name': ['Alice', 'Bob', 'Claire'], 'Age': [25, 30, 27], 'Gender': ['Female', 'Male', 'Female']}\n",
    "\n",
    "# Creating a dataframe from a dictionary\n",
    "df = pd.DataFrame(Data)\n",
    "print(df)"
   ]
  },
  {
   "cell_type": "code",
   "execution_count": 6,
   "id": "8315e1fa-2302-4167-bbb0-b5d8d00ff1eb",
   "metadata": {},
   "outputs": [
    {
     "name": "stdout",
     "output_type": "stream",
     "text": [
      "0    25\n",
      "1    30\n",
      "2    27\n",
      "Name: Age, dtype: int64\n",
      "\n",
      "0     Alice\n",
      "1       Bob\n",
      "2    Claire\n",
      "Name: Name, dtype: object\n",
      "\n",
      "0    Female\n",
      "1      Male\n",
      "2    Female\n",
      "Name: Gender, dtype: object\n"
     ]
    }
   ],
   "source": [
    "name_series = df['Name']\n",
    "age_series = df['Age']\n",
    "gender_series = df['Gender']\n",
    "\n",
    "\n",
    "print(age_series)\n",
    "print()\n",
    "print(name_series)\n",
    "print()\n",
    "print(gender_series)"
   ]
  },
  {
   "cell_type": "markdown",
   "id": "aad64bfb-8651-4c18-b57e-56e353d5f70f",
   "metadata": {},
   "source": [
    "---------------------------"
   ]
  },
  {
   "cell_type": "markdown",
   "id": "bcde679e-fd72-4d5a-a0bd-cfe40056974b",
   "metadata": {},
   "source": [
    "Q5. What are some common functions you can use to manipulate data in a Pandas DataFrame? Can\n",
    "you give an example of when you might use one of these functions?\n",
    "\n",
    "Ans -\n",
    "\n",
    "- head(): Displays the first few rows of the DataFrame.\n",
    "- tail(): Shows the last few rows of the DataFrame.\n",
    "- info(): Provides a summary of the DataFrame including data types and non-null counts.\n",
    "- describe(): Generates descriptive statistics of numerical columns.\n",
    "- shape: Returns the dimensions of the DataFrame (number of rows, number of columns).\n",
    "- drop(): Allows dropping rows or columns from the DataFrame.\n",
    "- fillna(): Fills missing values in the DataFrame with specified values or methods."
   ]
  },
  {
   "cell_type": "code",
   "execution_count": 8,
   "id": "6c1e173f-10d6-4e0b-a0bf-c53ddccb14cf",
   "metadata": {},
   "outputs": [
    {
     "name": "stdout",
     "output_type": "stream",
     "text": [
      "Product\n",
      "A    300\n",
      "B    270\n",
      "C    255\n",
      "Name: Sales, dtype: int64\n"
     ]
    }
   ],
   "source": [
    "# Example of groupby function in dataFrame\n",
    "data = {\n",
    "    'Product': ['A', 'B', 'A', 'C', 'B', 'C'],\n",
    "    'Sales': [100, 150, 200, 75, 120, 180]\n",
    "}\n",
    "\n",
    "df = pd.DataFrame(data)\n",
    "\n",
    "# Grouping by 'Product' and calculating total sales per product\n",
    "total = df.groupby('Product')['Sales'].sum()\n",
    "print(total)"
   ]
  },
  {
   "cell_type": "markdown",
   "id": "48b54c7e-2ed4-4536-9347-e8ef643b403b",
   "metadata": {},
   "source": [
    "------------------------"
   ]
  },
  {
   "cell_type": "markdown",
   "id": "d4ed39ab-6152-4d77-af3f-7b2002b1fa99",
   "metadata": {},
   "source": [
    "Q6. Which of the following is mutable in nature Series, DataFrame, Panel?\n",
    "\n",
    "Ans - Both Series and DataFrame are mutable in nature, while Panel is not mutable.\n",
    "\n",
    "----------------------"
   ]
  },
  {
   "cell_type": "markdown",
   "id": "5781289e-5dcd-4ed3-b2a1-e830573a357a",
   "metadata": {},
   "source": [
    "Q7. Create a DataFrame using multiple Series. Explain with an example."
   ]
  },
  {
   "cell_type": "code",
   "execution_count": 13,
   "id": "30c1acc5-fffc-4ddd-a2c6-bd73fbbddeea",
   "metadata": {},
   "outputs": [
    {
     "name": "stdout",
     "output_type": "stream",
     "text": [
      "   column1  column2  column3\n",
      "0  Pranjal     True        5\n",
      "1   Pratik    False       10\n",
      "2    Mohit     True        7\n"
     ]
    }
   ],
   "source": [
    "a = pd.Series(['Pranjal', 'Pratik', 'Mohit'])\n",
    "b = pd.Series([True, False, True])\n",
    "c = pd.Series([5, 10, 7])\n",
    "\n",
    "data = {\n",
    "    'column1' : a,\n",
    "    'column2' : b,\n",
    "    'column3' : c\n",
    "}\n",
    "\n",
    "print(pd.DataFrame(data))"
   ]
  },
  {
   "cell_type": "markdown",
   "id": "41cbf2f0-5bf4-464f-9981-df248b66139d",
   "metadata": {},
   "source": [
    "-------------"
   ]
  }
 ],
 "metadata": {
  "kernelspec": {
   "display_name": "Python 3 (ipykernel)",
   "language": "python",
   "name": "python3"
  },
  "language_info": {
   "codemirror_mode": {
    "name": "ipython",
    "version": 3
   },
   "file_extension": ".py",
   "mimetype": "text/x-python",
   "name": "python",
   "nbconvert_exporter": "python",
   "pygments_lexer": "ipython3",
   "version": "3.10.8"
  }
 },
 "nbformat": 4,
 "nbformat_minor": 5
}
