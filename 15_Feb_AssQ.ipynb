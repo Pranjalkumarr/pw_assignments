{
 "cells": [
  {
   "cell_type": "markdown",
   "id": "30881e0d-fb75-41a0-bd11-0f1de5ccd11c",
   "metadata": {},
   "source": [
    "Q1. What is multiprocessing in python? Why is it useful?\n",
    "\n",
    "Ans-\n",
    "\n",
    "Multiprocessing in Python refers to the ability to run multiple processes simultaneously. It is like having multiple workers who can work on different tasks at the same time. It is useful for improving performance and efficiency. It makes the program run faster by dividing the work among these workers, especially when you have a powerful computer with multiple processors.\n",
    "\n",
    "Q2. What are the differences between multiprocessing and multithreading?\n",
    "\n",
    "Ans -\n",
    "\n",
    "- Multiprocessing : It involves running multiple independent processes, each with its own memory space and Python interpreter, making it well-suited for CPU-intensive tasks but potentially requiring more memory and communication overhead.\n",
    "- Multithreading : It uses multiple threads within a single process, sharing memory, which is great for I/O-bound tasks but can be limited by the Global Interpreter Lock (GIL) in CPython, restricting true parallel execution of CPU-bound operations.\n",
    "\n",
    "Q3. Write a python code to create a process using the multiprocessing module.\n",
    "\n",
    "Ans -"
   ]
  },
  {
   "cell_type": "code",
   "execution_count": 8,
   "id": "54949c60-be48-4380-9279-06e07e91a2f7",
   "metadata": {},
   "outputs": [
    {
     "name": "stdout",
     "output_type": "stream",
     "text": [
      "[2, 4, 6, 8, 10, 12, 14, 16, 18]\n"
     ]
    }
   ],
   "source": [
    "import multiprocessing\n",
    "def two_times(n):\n",
    "    return(n*2)\n",
    "\n",
    "if __name__ == \"__main__\":\n",
    "    with multiprocessing.Pool (processes = 4) as pool:\n",
    "        out = pool.map(two_times, [1, 2, 3, 4, 5, 6, 7, 8, 9])\n",
    "    print(out)"
   ]
  },
  {
   "cell_type": "markdown",
   "id": "3c3db888-c899-43cd-8ba8-92ebb360cde2",
   "metadata": {},
   "source": [
    "Q4. What is a multiprocessing pool in python? Why is it used?\n",
    "\n",
    "Ans -\n",
    "\n",
    "A multiprocessing pool in Python is like a group of workers you can assign tasks to. It's used to divide and conquer tasks, like calculations, by splitting them among the workers, so they can work on them simultaneously. This makes things faster, especially on computers with multiple processors.\n",
    "\n",
    "Q5. How can we create a pool of worker processes in python using the multiprocessing module?\n",
    "\n",
    "Ans -\n",
    "\n",
    "- Import the \"multiprocessing\" module.\n",
    "- Define a function that represents the task you want to perform in parallel. This function will be executed by each worker in the pool.\n",
    "- Inside the if __name__ == \"__main__\": block, create a pool of worker processes using the Pool class from the multiprocessing module. You can specify the number of processes you want in the pool as an argument.\n",
    "- Use the pool's methods, such as map, to distribute tasks to the worker processes and collect the results."
   ]
  },
  {
   "cell_type": "code",
   "execution_count": 9,
   "id": "a17b175d-ddc5-4a36-a2bc-24eb3d2978ef",
   "metadata": {},
   "outputs": [
    {
     "name": "stdout",
     "output_type": "stream",
     "text": [
      "[1, 8, 27]\n"
     ]
    }
   ],
   "source": [
    "# Import the \"multiprocessing\" module.\n",
    "import multiprocessing\n",
    "\n",
    "# Define a function that represents the task you want to perform in parallel. \n",
    "# This function will be executed by each worker in the pool.\n",
    "def cubex(n):\n",
    "    return(n*(n**2))\n",
    "\n",
    "if __name__ == \"__main__\":\n",
    "    \n",
    "    # create a pool of worker processes using the Pool class from the multiprocessing module. \n",
    "    # You can specify the number of processes you want in the pool as an argument.\n",
    "    # Here, (processes = 4)\n",
    "    with multiprocessing.Pool (processes = 4) as pool:\n",
    "        \n",
    "        # Use the pool's methods, such as map, to distribute tasks to the worker processes and collect the results.\n",
    "        out = pool.map(cubex, [1, 2, 3])\n",
    "    print(out)"
   ]
  },
  {
   "cell_type": "code",
   "execution_count": null,
   "id": "b37350e2-824d-43aa-854b-c31c8664faf3",
   "metadata": {},
   "outputs": [],
   "source": []
  },
  {
   "cell_type": "code",
   "execution_count": 10,
   "id": "60b1cd97-6e9d-4bf2-8459-c186016ca6f9",
   "metadata": {},
   "outputs": [
    {
     "name": "stdout",
     "output_type": "stream",
     "text": [
      "[0, 1, 2]\n"
     ]
    }
   ],
   "source": [
    "import multiprocessing\n",
    "def One_less(n):\n",
    "    return(n-1)\n",
    "\n",
    "if __name__ == \"__main__\":\n",
    "    with multiprocessing.Pool (processes = 4) as pool:\n",
    "        out = pool.map(One_less, [1, 2, 3])\n",
    "    print(out)"
   ]
  },
  {
   "cell_type": "code",
   "execution_count": null,
   "id": "24a5a2d6-9605-42a1-a2ef-db5799567afd",
   "metadata": {},
   "outputs": [],
   "source": []
  }
 ],
 "metadata": {
  "kernelspec": {
   "display_name": "Python 3 (ipykernel)",
   "language": "python",
   "name": "python3"
  },
  "language_info": {
   "codemirror_mode": {
    "name": "ipython",
    "version": 3
   },
   "file_extension": ".py",
   "mimetype": "text/x-python",
   "name": "python",
   "nbconvert_exporter": "python",
   "pygments_lexer": "ipython3",
   "version": "3.10.8"
  }
 },
 "nbformat": 4,
 "nbformat_minor": 5
}
