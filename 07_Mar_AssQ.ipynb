{
 "cells": [
  {
   "cell_type": "markdown",
   "id": "d0b0a2be-df85-4bde-a0aa-f8145bbfdd86",
   "metadata": {},
   "source": [
    "**Q1. What are the three measures of central tendency?**\n",
    "\n",
    "Ans - \n",
    "\n",
    "- **Mean :** The arithmetic average of a dataset.\n",
    "\n",
    "- **Median :** The middle value of a dataset when arranged in ascending or descending order. \n",
    "\n",
    "- **Mode :** The value that occurs most frequently in a dataset.\n",
    "---\n",
    "**Q2. What is the difference between the mean, median, and mode? How are they used to measure the\n",
    "central tendency of a dataset?**\n",
    "\n",
    "Ans - \n",
    "\n",
    "- **Mean :** Describes the average value and it's sensitive to the extreme values.\n",
    "- **Median :** Describes the middle value, when the dataset is arranged in ascending or descending order and is less affected by extreme values\n",
    "- **Mode :** Describes the most common value, helpful for understanding the most frequent occurrence.\n",
    "---\n",
    "**Q3. Measure the three measures of central tendency for the given height data:\n",
    "[178,177,176,177,178.2,178,175,179,180,175,178.9,176.2,177,172.5,178,176.5]**\n",
    "\n",
    "Ans -"
   ]
  },
  {
   "cell_type": "code",
   "execution_count": 2,
   "id": "a9f8c743-8250-4c04-bade-247e5dd0097e",
   "metadata": {},
   "outputs": [],
   "source": [
    "import numpy as np\n",
    "import warnings\n",
    "\n",
    "warnings.filterwarnings('ignore')\n",
    "df = [178,177,176,177,178.2,178,175,179,180,175,178.9,176.2,177,172.5,178,176.5]"
   ]
  },
  {
   "cell_type": "code",
   "execution_count": 3,
   "id": "8bdec6b6-edb6-4783-98b4-59d6ac5d6601",
   "metadata": {},
   "outputs": [
    {
     "data": {
      "text/plain": [
       "177.01875"
      ]
     },
     "execution_count": 3,
     "metadata": {},
     "output_type": "execute_result"
    }
   ],
   "source": [
    "np.mean(df)"
   ]
  },
  {
   "cell_type": "code",
   "execution_count": 4,
   "id": "87105e6b-507c-42a0-a6b4-b17619fae8a0",
   "metadata": {},
   "outputs": [
    {
     "data": {
      "text/plain": [
       "177.0"
      ]
     },
     "execution_count": 4,
     "metadata": {},
     "output_type": "execute_result"
    }
   ],
   "source": [
    "np.median(df)"
   ]
  },
  {
   "cell_type": "code",
   "execution_count": 5,
   "id": "acac0176-004f-4266-a3f6-d076ef51d792",
   "metadata": {},
   "outputs": [
    {
     "data": {
      "text/plain": [
       "ModeResult(mode=array([177.]), count=array([3]))"
      ]
     },
     "execution_count": 5,
     "metadata": {},
     "output_type": "execute_result"
    }
   ],
   "source": [
    "from scipy import stats\n",
    "stats.mode(df)"
   ]
  },
  {
   "cell_type": "markdown",
   "id": "e56da3cc-2082-450c-8aca-8c01f9cd06da",
   "metadata": {},
   "source": [
    "---"
   ]
  },
  {
   "cell_type": "markdown",
   "id": "a0f6b46b-f56f-411e-af5e-436bf9ef12e9",
   "metadata": {},
   "source": [
    "**Q4. Find the standard deviation for the given data:\n",
    "[178,177,176,177,178.2,178,175,179,180,175,178.9,176.2,177,172.5,178,176.5]**\n",
    "\n",
    "Ans -"
   ]
  },
  {
   "cell_type": "code",
   "execution_count": 6,
   "id": "ffce8aa7-bf15-43ed-abef-739f2b5811cf",
   "metadata": {},
   "outputs": [
    {
     "data": {
      "text/plain": [
       "1.7885814036548633"
      ]
     },
     "execution_count": 6,
     "metadata": {},
     "output_type": "execute_result"
    }
   ],
   "source": [
    "np.std(df)"
   ]
  },
  {
   "cell_type": "markdown",
   "id": "56e7b6cb-9b86-4bdc-ae88-6113ba4bc265",
   "metadata": {},
   "source": [
    "---\n",
    "**Q5. How are measures of dispersion such as range, variance, and standard deviation used to describe\n",
    "the spread of a dataset? Provide an example.**\n",
    "\n",
    "Ans -\n",
    "\n",
    "- **Range :** The difference between the maximum and minimum values in a dataset. In a dataset of test scores where the highest score is 90 and the lowest is 60, the range would be 90 - 60 = 30. It gives a quick understanding of the spread but doesn't consider all values.\n",
    "- **Variance :** Measures how much each value in the dataset differs from the mean, squared and averaged.\n",
    "- **Standard deviation :** The square root of variance. If the variance of a dataset is 16, the standard deviation would be the square root of 16, which is 4.\n",
    "\n",
    "**Example :**\n",
    "\n",
    "For the dataset {1, 2, 3, 4}\n",
    "\n",
    "- **Range** = Maximum value - Minimum value = 4 - 1 = 3\n",
    "\n",
    "- **Variance :**\n",
    "\n",
    "    Mean = (1 + 2 + 3 + 4) / 4 = 10 / 4 = 2.5\n",
    "\n",
    "    Squared differences = (1 - 2.5)^2 + (2 - 2.5)^2 + (3 - 2.5)^2 + (4 - 2.5)^2 = 2.25 + 0.25 + 0.25 + 2.25 = 5\n",
    "\n",
    "    Variance = Sum of squared differences / Number of values = 5 / 4 = 1.25\n",
    "\n",
    "- **Standard Deviation** = Square root of Variance = √1.25 ≈ 1.12 (approximated to two decimal places)\n",
    "---"
   ]
  },
  {
   "cell_type": "markdown",
   "id": "f81a9662-4f1c-4f5e-b12b-358d40e28f03",
   "metadata": {},
   "source": [
    "**Q6. What is a Venn diagram?**\n",
    "\n",
    "Ans -\n",
    "\n",
    "- A Venn diagram is a visual representation of the relationships between different sets or groups. \n",
    "- It consists of circles or ellipses that overlap, each representing a set, and the overlapping regions show the common elements shared between sets.\n",
    "- It helps to illustrate where sets intersect and what elements they have in common. \n",
    "- It is commonly used to visualize relationships and understand the overlap or distinctions between different categories or groups.\n",
    "---\n",
    "**Q7. For the two given sets A = (2, 3, 4, 5, 6, 7) & B = (0, 2, 6, 8, 10) Find:\n",
    "(i) A ∪ B, (ii) A ∩ B**\n",
    "\n",
    "Ans -"
   ]
  },
  {
   "cell_type": "code",
   "execution_count": 7,
   "id": "e6fa9d06-c6ab-43c4-9b81-843a59d19962",
   "metadata": {},
   "outputs": [
    {
     "name": "stdout",
     "output_type": "stream",
     "text": [
      "The value of A ∪ B is (0, 2, 3, 4, 5, 6, 7, 8, 10)\n",
      "The value of A ∩ B is (2, 6)\n"
     ]
    }
   ],
   "source": [
    "A = (2, 3, 4, 5, 6, 7) \n",
    "B = (0, 2, 6, 8, 10)\n",
    "\n",
    "print(\"The value of A ∪ B is\", tuple(set(A) | set(B)))\n",
    "print(\"The value of A ∩ B is\", tuple(set(A) & set(B)))"
   ]
  },
  {
   "cell_type": "markdown",
   "id": "d0f2e840-34d1-43db-bff5-547b77bc8f9b",
   "metadata": {},
   "source": [
    "---\n",
    "**Q8. What do you understand about skewness in data?**\n",
    "\n",
    "Ans - \n",
    "\n",
    "- Skewness in data refers to the measure of asymmetry or lack of symmetry in the distribution of data.\n",
    "- Skewness helps to understand the shape and distribution of the data, providing insights into the central tendency and variability of the dataset.\n",
    "---"
   ]
  },
  {
   "cell_type": "markdown",
   "id": "2c52ad8a-5c14-40c5-b181-68b92bb2f6e3",
   "metadata": {},
   "source": [
    "**Q9. If a data is right skewed then what will be the position of median with respect to mean?**\n",
    "\n",
    "Ans - \n",
    "\n",
    "The value of median will be less than the value of mean. And, the median is to the left of the mean.\n",
    "\n",
    "---\n",
    "**Q1O. Explain the difference between covariance and correlation. How are these measures used in\n",
    "statistical analysis?**\n",
    "\n",
    "Ans - \n",
    "\n",
    "**Covariance:**\n",
    "\n",
    "- It is a measure of the relationship between two random variables and to what extent, they change together.\n",
    "- However, it doesn't tell us the strength of the relationship.\n",
    "- Depends on the units of the variables.\n",
    "- Positive means one variable tends to increase as the other does, and vice versa for negative.\n",
    "\n",
    "**Correlation:**\n",
    "- Scaled version of covariance.\n",
    "- It measures the strength and direction of the linear relationship between two variables. \n",
    "- It estimates the depth of the relationship between variables. \n",
    "- Always between -1 (perfect negative correlation) and 1 (perfect positive correlation).\n",
    "- Closer to 1 or -1 indicates a stronger relationship, 0 means no linear relationship.\n",
    "- It provides a standardized measure, allowing for easier interpretation and comparison between different pairs of variables.\n",
    "\n",
    "---"
   ]
  },
  {
   "cell_type": "markdown",
   "id": "28b36d87-5a13-48cf-b8ef-09c84d50bbea",
   "metadata": {},
   "source": [
    "**Q11. What is the formula for calculating the sample mean? Provide an example calculation for a dataset.**\n",
    "\n",
    "Ans -\n"
   ]
  },
  {
   "cell_type": "markdown",
   "id": "2c048ce2-a6eb-4e1d-b767-8cbd4fba6002",
   "metadata": {},
   "source": [
    "**The formula for calculating the sample mean:**\n",
    "\n",
    "**x̄ = ( Σ xi )/n**\n",
    "\n",
    "Here, \n",
    "\n",
    "    x̄ = Sample mean, \n",
    "\n",
    "    xi = All sample values of x\n",
    "\n",
    "    n = Number of sample"
   ]
  },
  {
   "cell_type": "markdown",
   "id": "2fd3afe6-4bce-41ba-ab1a-f89a580933be",
   "metadata": {},
   "source": [
    "**Let's take an example dataset: 5, 8, 12, 6, 10**\n",
    "\n",
    "=>      x̄ = (5 + 8 + 12 + 6 + 10) / 5\n",
    "\n",
    "=>      x̄ = 41 / 5\n",
    "\n",
    "=>      x̄ = 8.2\n",
    "\n",
    "So, the sample mean for this dataset is 8.2."
   ]
  },
  {
   "cell_type": "markdown",
   "id": "424c6e2f-ae21-4e5c-b434-cb6f4bc14a66",
   "metadata": {},
   "source": [
    "---"
   ]
  },
  {
   "cell_type": "markdown",
   "id": "774f0346-5846-4875-a8e9-c498d88c04e5",
   "metadata": {},
   "source": [
    "**Q12. For a normal distribution data what is the relationship between its measure of central tendency?**\n",
    "\n",
    "Ans -\n",
    "\n",
    "The mean, mode and median are exactly the same in a normal distribution.\n",
    "\n",
    "---\n",
    "\n",
    "**Q13. How is covariance different from correlation?**\n",
    "\n",
    "Ans -\n",
    "\n",
    "- Covariance is not standardized and depends on the units of the variables, while correlation is standardized and always falls between -1 and 1.\n",
    "- Covariance helps understand the direction of the relationship, but correlation provides a more interpretable measure for strength and direction, allowing for comparison between different pairs of variables.\n",
    "---\n",
    "**Q14. How do outliers affect measures of central tendency and dispersion? Provide an example.**\n",
    "\n",
    "Ans -\n",
    "\n",
    "**Central Tendency:**\n",
    "\n",
    "- Mean: Outliers can heavily influence the mean.\n",
    "- Median: Less affected by the outliers.\n",
    "- Mode: Generally less affected by the outliers.\n",
    "\n",
    "\n",
    "**Dispersion:**\n",
    "\n",
    "- Range: Outliers can influence the range, but to a lesser extent compared to mean, variance, and standard deviation.\n",
    "- Variance: Outliers can heavily influence the variance.\n",
    "- Standard Deviation: Outliers can heavily influence the standard Deviation.\n",
    "\n",
    "**Example:**\n",
    "**Dataset:** 1, 2, 3, 3, 4, 20"
   ]
  },
  {
   "cell_type": "markdown",
   "id": "a1f8e6e0-7684-4cbe-a605-9ec061a2e449",
   "metadata": {},
   "source": [
    "**Without Outlier (Original Data: 1, 2, 3, 3, 4):**\n",
    "\n",
    "- Mean: 2.6\n",
    "- Median: 3\n",
    "- Mode: 3\n",
    "- Range: 3\n",
    "- Variance: 1.3\n",
    "- Standard Deviation: 1.14\n",
    "\n",
    "**With Outlier (Extended Data: 1, 2, 3, 3, 4, 20):**\n",
    "\n",
    "- Mean: 5.5\n",
    "- Median: 3\n",
    "- Mode: 3\n",
    "- Range: 19\n",
    "- Variance: 37.25\n",
    "- Standard Deviation: 6.11"
   ]
  },
  {
   "cell_type": "code",
   "execution_count": null,
   "id": "a0a5285d-87cb-48a4-9f0d-cda5efed048c",
   "metadata": {},
   "outputs": [],
   "source": []
  }
 ],
 "metadata": {
  "kernelspec": {
   "display_name": "Python 3 (ipykernel)",
   "language": "python",
   "name": "python3"
  },
  "language_info": {
   "codemirror_mode": {
    "name": "ipython",
    "version": 3
   },
   "file_extension": ".py",
   "mimetype": "text/x-python",
   "name": "python",
   "nbconvert_exporter": "python",
   "pygments_lexer": "ipython3",
   "version": "3.10.8"
  }
 },
 "nbformat": 4,
 "nbformat_minor": 5
}
