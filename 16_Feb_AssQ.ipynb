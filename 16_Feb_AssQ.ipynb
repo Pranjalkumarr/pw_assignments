{
 "cells": [
  {
   "cell_type": "markdown",
   "id": "e2e60932-f6ed-4c93-b088-1aafdeb23445",
   "metadata": {},
   "source": [
    "Q1. What is a database? Differentiate between SQL and NoSQL databases.\n",
    "\n",
    "Ans - A database is an organized collection of structured information, or data, typically stored electronically in a computer system\n",
    "\n",
    "- SQL : \n",
    "1. SQL databases are relational.\n",
    "2. SQL databases use structured query language (SQL) and have a predefined schema.  \n",
    "3. SQL databases are vertically scalable. \n",
    "\n",
    "- NoSQL : \n",
    "1. NoSQL databases are non-relational.\n",
    "2. NoSQL databases have dynamic schemas for unstructured data.\n",
    "3. NoSQL databases are horizontally scalable.\n",
    "\n",
    "Q2. What is DDL? Explain why CREATE, DROP, ALTER, and TRUNCATE are used with an example.\n",
    "\n",
    "Ans - \n",
    "\n",
    "Data Definition Language (DDL) is a subset of SQL. It is a language for describing data and its relationships in a database. It is used for defining, modifying, and managing database structures. \n",
    "\n",
    "DDL includes commands like CREATE (to create database objects like tables), DROP (to delete database objects), ALTER (to modify existing database objects), and TRUNCATE (to remove all data from a table while keeping its structure intact).\n",
    "\n",
    "For example, CREATE TABLE statement is used to create a new table in the database."
   ]
  },
  {
   "cell_type": "raw",
   "id": "abe081df-91f5-4b5b-a77f-c14470d4d139",
   "metadata": {},
   "source": [
    "CREATE TABLE Employees (\n",
    "    EmployeeID INT PRIMARY KEY,\n",
    "    FirstName VARCHAR(50),\n",
    "    LastName VARCHAR(50),\n",
    "    Department VARCHAR(50)\n",
    ");"
   ]
  },
  {
   "cell_type": "markdown",
   "id": "ead6e552-4e9d-4d6f-947f-57e168904246",
   "metadata": {},
   "source": [
    "Q3. What is DML? Explain INSERT, UPDATE, and DELETE with an example.\n",
    "\n",
    "Ans - \n",
    "\n",
    "- Data Manipulation Language (DML) is a subset of SQL. It is used for managing data in the database.\n",
    "\n",
    "- DML includes commands like INSERT (adds a new record to the database table), UPDATE (modifies existing data in the database table), DELETE (removes data from the database table).\n",
    "\n",
    " **Examples :-**\n",
    "1. **INSERT :** INSERT INTO Employees (Name, Age) VALUES ('John', 30); \n",
    "\n",
    "-> Inserts a new employee with name 'John' and age 30 into the 'Employees' table.\n",
    "\n",
    "2. **UPDATE :** UPDATE Products SET Price = 25 WHERE ProductID = 101;  \n",
    "\n",
    "-> Updates the price of a product with ID 101 to $25.\n",
    "\n",
    "3. **DELETE :** DELETE FROM Customers WHERE CustomerID = 201;  \n",
    "\n",
    "-> Deletes a customer record with ID 201 from the 'Customers' table\n",
    "\n",
    "Q4. What is DQL? Explain SELECT with an example.\n",
    "\n",
    "Ans - \n",
    "\n",
    "- DQL (Data Query Language) is a subset of SQL (Structured Query Language). It is used for querying and retrieving data from a database. \n",
    "\n",
    "- The SELECT command is used to query or retrieve data from a table in the database. It is used to retrieve a subset of records from one or more tables. It allows you to specify the columns you want to retrieve and apply filtering conditions to narrow down the results.\n",
    "\n",
    "**Example :-**"
   ]
  },
  {
   "cell_type": "raw",
   "id": "ca0f523c-56af-476e-aa0c-e2be2ecc0d24",
   "metadata": {},
   "source": [
    "SELECT name From students WHERE age < 10;\n",
    "# This query will give you the list of names from the \"students\" table where the age is less than 10."
   ]
  },
  {
   "cell_type": "markdown",
   "id": "a93a13e0-a10b-49f9-8101-f3b5da5ce02b",
   "metadata": {},
   "source": [
    "Q5. Explain Primary Key and Foreign Key.\n",
    "\n",
    "Ans - \n",
    "\n",
    "- **Primary Key** : A primary key is a unique identifier for each record in a table.\n",
    "- **Foreign Key** : A foreign key is a column or group of columns in a relational database table that provides a link between data in two tables."
   ]
  },
  {
   "cell_type": "markdown",
   "id": "a2ea8a92-e6d3-4872-9a69-e0bb3c0bd18e",
   "metadata": {},
   "source": [
    "Q6. Write a python code to connect MySQL to python. Explain the cursor() and execute() method.\n",
    "\n",
    "Ans -"
   ]
  },
  {
   "cell_type": "raw",
   "id": "254a46a5-5a4b-4fb2-b313-3fbbcb4c3894",
   "metadata": {},
   "source": [
    "import mysql.connector\n",
    "\n",
    "mydb = mysql.connector.connect(\n",
    "  host=\"localhost\",\n",
    "  user=\"abc\",\n",
    "  password=\"password\"\n",
    ")\n",
    "\n",
    "print(mydb)"
   ]
  },
  {
   "cell_type": "markdown",
   "id": "3cf5b984-86b2-4193-9de0-cf6d8f737c3b",
   "metadata": {},
   "source": [
    "- **cursor() method** :  A cursor is a database object used to interact with the database and execute SQL queries. Cursor allow you to execute SQL statements and retrieve data from the database.\n",
    "- **execute() method** : The mycursor.execute(\"SELECT * FROM table_name\") line executes an SQL query using the cursor."
   ]
  },
  {
   "cell_type": "markdown",
   "id": "117978b4-67b3-4c91-b758-5d86eb316d33",
   "metadata": {},
   "source": [
    "Q7. Give the order of execution of SQL clauses in an SQL query.\n",
    "\n",
    "Ans -\n",
    "\n",
    "1. FROM\n",
    "2. JOIN\n",
    "3. WHERE\n",
    "4. GROUP BY\n",
    "5. HAVING\n",
    "6. SELECT\n",
    "7. DISTINCT\n",
    "8. \n",
    "\n",
    "ORDER BY: The ORDER BY clause is used to sort the result set based on one or more columns. It is executed after the SELECT clause and can be used to control the order of the final result set."
   ]
  },
  {
   "cell_type": "code",
   "execution_count": null,
   "id": "4f3feffb-f04c-4167-9228-c560a9f32842",
   "metadata": {},
   "outputs": [],
   "source": []
  }
 ],
 "metadata": {
  "kernelspec": {
   "display_name": "Python 3 (ipykernel)",
   "language": "python",
   "name": "python3"
  },
  "language_info": {
   "codemirror_mode": {
    "name": "ipython",
    "version": 3
   },
   "file_extension": ".py",
   "mimetype": "text/x-python",
   "name": "python",
   "nbconvert_exporter": "python",
   "pygments_lexer": "ipython3",
   "version": "3.10.8"
  }
 },
 "nbformat": 4,
 "nbformat_minor": 5
}
